{
 "cells": [
  {
   "cell_type": "code",
   "execution_count": null,
   "metadata": {},
   "outputs": [],
   "source": [
    "import pandas as pd\n",
    "import regex as re\n",
    "import numpy as np\n",
    "from collections import Counter\n",
    "import matplotlib.pyplot as plt\n",
    "import emoji\n",
    "from wordcloud import WordCloud, STOPWORDS, ImageColorGenerator"
   ]
  },
  {
   "cell_type": "code",
   "execution_count": null,
   "metadata": {},
   "outputs": [],
   "source": [
    "def is_date_time(s):\n",
    "    pattern = '^([0-9]{2})(\\/)([0-9]{2})(\\/)([0-9]{2,4}), ([0-9]+):([0-9]+)[ ]?(AM|PM|am|pm)? - '\n",
    "    result = re.match(pattern,s)\n",
    "    if result:\n",
    "        return True\n",
    "    else:\n",
    "        return False\n",
    "def is_author(s):\n",
    "    result = s.split(\": \")\n",
    "    if len(result)==2:\n",
    "        return True\n",
    "    return False\n",
    "def getDataFromLine(line):\n",
    "    split_line = line.split(\" - \")\n",
    "    date, time = split_line[0].split(\", \")\n",
    "    message = \" \".join(split_line[1:])\n",
    "    if is_author(message):\n",
    "        author, message = message.split(\": \", maxsplit=1)\n",
    "    else:\n",
    "        author =None\n",
    "    return date, time, author, message\n",
    "whatsapp_file = \"WhatsApp-Chat-with-John.txt\"\n",
    "data = []\n",
    "with open(whatsapp_file, encoding='utf-8') as fd:\n",
    "    date, time, author = None,None, None\n",
    "    msg_buffer = []\n",
    "    while True:\n",
    "        line = fd.readline().strip()\n",
    "        if is_date_time(line):\n",
    "            if(len(msg_buffer)>0):\n",
    "                data.append([date, time, author, \" \".join(msg_buffer)])\n",
    "            msg_buffer.clear()\n",
    "            date, time, author, message = getDataFromLine(line)\n",
    "            msg_buffer.append(message)\n",
    "        else:\n",
    "            msg_buffer.append(line)\n",
    "df = pd.DataFrame(data, columns=[\"date\",\"time\",\"author\",\"message\"])\n",
    "\n",
    "            \n",
    "            "
   ]
  }
 ],
 "metadata": {
  "kernelspec": {
   "display_name": "Python 3",
   "language": "python",
   "name": "python3"
  },
  "language_info": {
   "codemirror_mode": {
    "name": "ipython",
    "version": 3
   },
   "file_extension": ".py",
   "mimetype": "text/x-python",
   "name": "python",
   "nbconvert_exporter": "python",
   "pygments_lexer": "ipython3",
   "version": "3.7.6"
  }
 },
 "nbformat": 4,
 "nbformat_minor": 4
}
